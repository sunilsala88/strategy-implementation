{
 "cells": [
  {
   "cell_type": "code",
   "execution_count": null,
   "metadata": {},
   "outputs": [
    {
     "data": {
      "text/plain": [
       "<IB connected to 127.0.0.1:7497 clientId=44>"
      ]
     },
     "execution_count": 6,
     "metadata": {},
     "output_type": "execute_result"
    },
    {
     "name": "stderr",
     "output_type": "stream",
     "text": [
      "Error 10289, reqId 17: You must set Cash Quantity for this order\n",
      "Canceled order: Trade(contract=Crypto(conId=495759171, symbol='ETH', exchange='PAXOS', currency='USD', localSymbol='ETH.USD', tradingClass='ETH'), order=Order(orderId=17, clientId=44, action='BUY', totalQuantity=1, orderType='MKT', tif='DAY', account='DU8663688'), orderStatus=OrderStatus(orderId=17, status='Cancelled', filled=0.0, remaining=0.0, avgFillPrice=0.0, permId=0, parentId=0, lastFillPrice=0.0, clientId=0, whyHeld='', mktCapPrice=0.0), fills=[], log=[TradeLogEntry(time=datetime.datetime(2024, 7, 28, 13, 33, 13, 347803, tzinfo=datetime.timezone.utc), status='PendingSubmit', message='', errorCode=0), TradeLogEntry(time=datetime.datetime(2024, 7, 28, 13, 33, 13, 354550, tzinfo=datetime.timezone.utc), status='Cancelled', message='Error 10289, reqId 17: You must set Cash Quantity for this order', errorCode=10289)], advancedError='')\n",
      "Error 10293, reqId 18: Cryptocurrency Cash Quantity order cannot specify size\n",
      "Canceled order: Trade(contract=Crypto(conId=495759171, symbol='ETH', exchange='PAXOS', currency='USD', localSymbol='ETH.USD', tradingClass='ETH'), order=Order(orderId=18, clientId=44, action='BUY', totalQuantity=1, orderType='MKT', tif='IOC', account='DU8663688', cashQty=1), orderStatus=OrderStatus(orderId=18, status='Cancelled', filled=0.0, remaining=0.0, avgFillPrice=0.0, permId=0, parentId=0, lastFillPrice=0.0, clientId=0, whyHeld='', mktCapPrice=0.0), fills=[], log=[TradeLogEntry(time=datetime.datetime(2024, 7, 28, 13, 36, 17, 929289, tzinfo=datetime.timezone.utc), status='PendingSubmit', message='', errorCode=0), TradeLogEntry(time=datetime.datetime(2024, 7, 28, 13, 36, 17, 958091, tzinfo=datetime.timezone.utc), status='Cancelled', message='Error 10293, reqId 18: Cryptocurrency Cash Quantity order cannot specify size', errorCode=10293)], advancedError='')\n",
      "Error 10289, reqId 22: You must set Cash Quantity for this order\n",
      "Canceled order: Trade(contract=Crypto(conId=495759171, symbol='ETH', exchange='PAXOS', currency='USD', localSymbol='ETH.USD', tradingClass='ETH'), order=MarketOrder(orderId=22, clientId=44, action='BUY', totalQuantity=1), orderStatus=OrderStatus(orderId=22, status='Cancelled', filled=0.0, remaining=0.0, avgFillPrice=0.0, permId=0, parentId=0, lastFillPrice=0.0, clientId=0, whyHeld='', mktCapPrice=0.0), fills=[], log=[TradeLogEntry(time=datetime.datetime(2024, 7, 28, 13, 42, 11, 469500, tzinfo=datetime.timezone.utc), status='PendingSubmit', message='', errorCode=0), TradeLogEntry(time=datetime.datetime(2024, 7, 28, 13, 42, 11, 482632, tzinfo=datetime.timezone.utc), status='Cancelled', message='Error 10289, reqId 22: You must set Cash Quantity for this order', errorCode=10289)], advancedError='')\n",
      "Error 10244, reqId 24: Cash Quantity cannot be used for this order\n",
      "Canceled order: Trade(contract=Crypto(conId=495759171, symbol='ETH', exchange='PAXOS', currency='USD', localSymbol='ETH.USD', tradingClass='ETH'), order=Order(orderId=24, clientId=44, action='BUY', orderType='LMT', lmtPrice=3269, tif='IOC', account='DU8663688', cashQty=1), orderStatus=OrderStatus(orderId=24, status='Cancelled', filled=0.0, remaining=0.0, avgFillPrice=0.0, permId=0, parentId=0, lastFillPrice=0.0, clientId=0, whyHeld='', mktCapPrice=0.0), fills=[], log=[TradeLogEntry(time=datetime.datetime(2024, 7, 28, 13, 45, 51, 235107, tzinfo=datetime.timezone.utc), status='PendingSubmit', message='', errorCode=0), TradeLogEntry(time=datetime.datetime(2024, 7, 28, 13, 45, 51, 245200, tzinfo=datetime.timezone.utc), status='Cancelled', message='Error 10244, reqId 24: Cash Quantity cannot be used for this order', errorCode=10244)], advancedError='')\n",
      "Error 10244, reqId 25: Cash Quantity cannot be used for this order\n",
      "Canceled order: Trade(contract=Crypto(conId=495759171, symbol='ETH', exchange='PAXOS', currency='USD', localSymbol='ETH.USD', tradingClass='ETH'), order=Order(orderId=25, clientId=44, action='BUY', orderType='LMT', lmtPrice=3269, tif='IOC', account='DU8663688', cashQty=1), orderStatus=OrderStatus(orderId=25, status='Cancelled', filled=0.0, remaining=0.0, avgFillPrice=0.0, permId=0, parentId=0, lastFillPrice=0.0, clientId=0, whyHeld='', mktCapPrice=0.0), fills=[], log=[TradeLogEntry(time=datetime.datetime(2024, 7, 28, 13, 46, 10, 684022, tzinfo=datetime.timezone.utc), status='PendingSubmit', message='', errorCode=0), TradeLogEntry(time=datetime.datetime(2024, 7, 28, 13, 46, 10, 693892, tzinfo=datetime.timezone.utc), status='Cancelled', message='Error 10244, reqId 25: Cash Quantity cannot be used for this order', errorCode=10244)], advancedError='')\n",
      "Error 10244, reqId 26: Cash Quantity cannot be used for this order\n",
      "Canceled order: Trade(contract=Crypto(conId=495759171, symbol='ETH', exchange='PAXOS', currency='USD', localSymbol='ETH.USD', tradingClass='ETH'), order=Order(orderId=26, clientId=44, action='BUY', orderType='LMT', auxPrice=3268, tif='IOC', account='DU8663688', cashQty=1), orderStatus=OrderStatus(orderId=26, status='Cancelled', filled=0.0, remaining=0.0, avgFillPrice=0.0, permId=0, parentId=0, lastFillPrice=0.0, clientId=0, whyHeld='', mktCapPrice=0.0), fills=[], log=[TradeLogEntry(time=datetime.datetime(2024, 7, 28, 13, 46, 54, 504761, tzinfo=datetime.timezone.utc), status='PendingSubmit', message='', errorCode=0), TradeLogEntry(time=datetime.datetime(2024, 7, 28, 13, 46, 54, 512554, tzinfo=datetime.timezone.utc), status='Cancelled', message='Error 10244, reqId 26: Cash Quantity cannot be used for this order', errorCode=10244)], advancedError='')\n"
     ]
    }
   ],
   "source": [
    "\n",
    "from ib_insync import *\n",
    "util.startLoop()  # uncomment this line when in a notebook\n",
    "\n",
    "ib = IB()\n",
    "ib.connect('127.0.0.1', 7497, clientId=44)"
   ]
  },
  {
   "cell_type": "code",
   "execution_count": 7,
   "metadata": {},
   "outputs": [
    {
     "data": {
      "text/plain": [
       "Crypto(conId=495759171, symbol='ETH', exchange='PAXOS', currency='USD', localSymbol='ETH.USD', tradingClass='ETH')"
      ]
     },
     "execution_count": 7,
     "metadata": {},
     "output_type": "execute_result"
    }
   ],
   "source": [
    "name='ETH'\n",
    "contract_obj=Crypto(name,'PAXOS','USD')\n",
    "contract_obj=ib.qualifyContracts(contract_obj)[0]\n",
    "contract_obj\n"
   ]
  },
  {
   "cell_type": "code",
   "execution_count": 17,
   "metadata": {},
   "outputs": [
    {
     "data": {
      "text/plain": [
       "Trade(contract=Crypto(conId=495759171, symbol='ETH', exchange='PAXOS', currency='USD', localSymbol='ETH.USD', tradingClass='ETH'), order=Order(orderId=26, clientId=44, action='BUY', orderType='LMT', auxPrice=3268, tif='IOC', account='DU8663688', cashQty=1), orderStatus=OrderStatus(orderId=26, status='PendingSubmit', filled=0.0, remaining=0.0, avgFillPrice=0.0, permId=0, parentId=0, lastFillPrice=0.0, clientId=0, whyHeld='', mktCapPrice=0.0), fills=[], log=[TradeLogEntry(time=datetime.datetime(2024, 7, 28, 13, 46, 54, 504761, tzinfo=datetime.timezone.utc), status='PendingSubmit', message='', errorCode=0)], advancedError='')"
      ]
     },
     "execution_count": 17,
     "metadata": {},
     "output_type": "execute_result"
    }
   ],
   "source": [
    "account_no='DU8663688'\n",
    "ord_validity='IOC'\n",
    "# ord=MarketOrder(action='BUY',totalQuantity=1)\n",
    "ord=Order(orderId=ib.client.getReqId(),orderType='LMT',action='BUY',account=account_no,tif=ord_validity,cashQty=1,auxPrice=3268)\n",
    "trade=ib.placeOrder(contract_obj,ord)\n",
    "trade\n"
   ]
  }
 ],
 "metadata": {
  "kernelspec": {
   "display_name": "Python 3",
   "language": "python",
   "name": "python3"
  },
  "language_info": {
   "codemirror_mode": {
    "name": "ipython",
    "version": 3
   },
   "file_extension": ".py",
   "mimetype": "text/x-python",
   "name": "python",
   "nbconvert_exporter": "python",
   "pygments_lexer": "ipython3",
   "version": "3.12.2"
  }
 },
 "nbformat": 4,
 "nbformat_minor": 2
}
