{
 "cells": [
  {
   "cell_type": "code",
   "execution_count": 1,
   "metadata": {},
   "outputs": [
    {
     "data": {
      "text/plain": [
       "<IB connected to 127.0.0.1:7497 clientId=44>"
      ]
     },
     "execution_count": 1,
     "metadata": {},
     "output_type": "execute_result"
    }
   ],
   "source": [
    "\n",
    "from ib_insync import *\n",
    "util.startLoop()  # uncomment this line when in a notebook\n",
    "\n",
    "ib = IB()\n",
    "ib.connect('127.0.0.1', 7497, clientId=44)"
   ]
  },
  {
   "cell_type": "code",
   "execution_count": 7,
   "metadata": {},
   "outputs": [
    {
     "data": {
      "text/plain": [
       "Crypto(conId=495759171, symbol='ETH', exchange='PAXOS', currency='USD', localSymbol='ETH.USD', tradingClass='ETH')"
      ]
     },
     "execution_count": 7,
     "metadata": {},
     "output_type": "execute_result"
    }
   ],
   "source": [
    "name='ETH'\n",
    "contract_obj=Crypto(name,'PAXOS','USD')\n",
    "contract_obj=ib.qualifyContracts(contract_obj)[0]\n",
    "contract_obj\n"
   ]
  },
  {
   "cell_type": "code",
   "execution_count": 17,
   "metadata": {},
   "outputs": [
    {
     "data": {
      "text/plain": [
       "Trade(contract=Crypto(conId=495759171, symbol='ETH', exchange='PAXOS', currency='USD', localSymbol='ETH.USD', tradingClass='ETH'), order=Order(orderId=26, clientId=44, action='BUY', orderType='LMT', auxPrice=3268, tif='IOC', account='DU8663688', cashQty=1), orderStatus=OrderStatus(orderId=26, status='PendingSubmit', filled=0.0, remaining=0.0, avgFillPrice=0.0, permId=0, parentId=0, lastFillPrice=0.0, clientId=0, whyHeld='', mktCapPrice=0.0), fills=[], log=[TradeLogEntry(time=datetime.datetime(2024, 7, 28, 13, 46, 54, 504761, tzinfo=datetime.timezone.utc), status='PendingSubmit', message='', errorCode=0)], advancedError='')"
      ]
     },
     "execution_count": 17,
     "metadata": {},
     "output_type": "execute_result"
    }
   ],
   "source": [
    "account_no='DU8663688'\n",
    "ord_validity='IOC'\n",
    "# ord=MarketOrder(action='BUY',totalQuantity=1)\n",
    "ord=Order(orderId=ib.client.getReqId(),orderType='LMT',action='BUY',account=account_no,tif=ord_validity,cashQty=1,auxPrice=3268)\n",
    "trade=ib.placeOrder(contract_obj,ord)\n",
    "trade\n"
   ]
  },
  {
   "cell_type": "code",
   "execution_count": 27,
   "metadata": {},
   "outputs": [],
   "source": [
    "import pandas as pd\n",
    "name='ASHOKA'\n",
    "\n",
    "def check_open_order(name):\n",
    "    ord=ib.reqAllOpenOrders()\n",
    "\n",
    "    if ord:\n",
    "        ord_df=pd.DataFrame(ord)\n",
    "        print(ord_df)\n",
    "        print(type(ord_df))\n",
    "        # ord_df.to_csv('order_list.csv')\n",
    "        ord_df['name']=[c['localSymbol'] for c in list(ord_df['contract'])]\n",
    "        ord_df['ord_type']=[c['orderType']for c in list(ord_df['order'])]\n",
    "        a=ord_df[(ord_df['name']==name) & (ord_df['ord_type']=='MKT') ]\n",
    "        print(a)\n",
    "        if a.empty:\n",
    "            return False\n",
    "\n",
    "        else:\n",
    "            return True"
   ]
  },
  {
   "cell_type": "code",
   "execution_count": 30,
   "metadata": {},
   "outputs": [
    {
     "name": "stdout",
     "output_type": "stream",
     "text": [
      "21.099999999999994\n"
     ]
    }
   ],
   "source": [
    "stop_price=78.9\n",
    "current_price=100\n",
    "#calculat percentage stop_price with current_price\n",
    "percentage_stop=(current_price-stop_price)/current_price*100\n",
    "print(percentage_stop)"
   ]
  },
  {
   "cell_type": "code",
   "execution_count": 28,
   "metadata": {},
   "outputs": [
    {
     "name": "stdout",
     "output_type": "stream",
     "text": [
      "                                            contract  \\\n",
      "0  {'secType': 'STK', 'conId': 56985045, 'symbol'...   \n",
      "\n",
      "                                               order  \\\n",
      "0  {'orderId': 132, 'clientId': 18, 'permId': 521...   \n",
      "\n",
      "                                         orderStatus fills  \\\n",
      "0  {'orderId': 132, 'status': 'PreSubmitted', 'fi...    []   \n",
      "\n",
      "                                                 log advancedError  \n",
      "0  [{'time': 2024-07-29 08:11:36.945786+00:00, 's...                \n",
      "<class 'pandas.core.frame.DataFrame'>\n",
      "Empty DataFrame\n",
      "Columns: [contract, order, orderStatus, fills, log, advancedError, name, ord_type]\n",
      "Index: []\n"
     ]
    },
    {
     "data": {
      "text/plain": [
       "False"
      ]
     },
     "execution_count": 28,
     "metadata": {},
     "output_type": "execute_result"
    }
   ],
   "source": [
    "check_open_order(name)"
   ]
  }
 ],
 "metadata": {
  "kernelspec": {
   "display_name": "Python 3",
   "language": "python",
   "name": "python3"
  },
  "language_info": {
   "codemirror_mode": {
    "name": "ipython",
    "version": 3
   },
   "file_extension": ".py",
   "mimetype": "text/x-python",
   "name": "python",
   "nbconvert_exporter": "python",
   "pygments_lexer": "ipython3",
   "version": "3.12.2"
  }
 },
 "nbformat": 4,
 "nbformat_minor": 2
}
