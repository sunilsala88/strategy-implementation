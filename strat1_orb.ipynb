{
 "cells": [
  {
   "cell_type": "code",
   "execution_count": 1,
   "metadata": {},
   "outputs": [
    {
     "name": "stdout",
     "output_type": "stream",
     "text": [
      "Stock(conId=9720, symbol='MMM', exchange='SMART', primaryExchange='NYSE', currency='USD', localSymbol='MMM', tradingClass='MMM')\n",
      "Stock(conId=4721, symbol='AXP', exchange='SMART', primaryExchange='NYSE', currency='USD', localSymbol='AXP', tradingClass='AXP')\n",
      "Stock(conId=266145, symbol='AMGN', exchange='SMART', primaryExchange='NASDAQ', currency='USD', localSymbol='AMGN', tradingClass='NMS')\n",
      "Stock(conId=3691937, symbol='AMZN', exchange='SMART', primaryExchange='NASDAQ', currency='USD', localSymbol='AMZN', tradingClass='NMS')\n",
      "Stock(conId=265598, symbol='AAPL', exchange='SMART', primaryExchange='NASDAQ', currency='USD', localSymbol='AAPL', tradingClass='NMS')\n",
      "Stock(conId=4762, symbol='BA', exchange='SMART', primaryExchange='NYSE', currency='USD', localSymbol='BA', tradingClass='BA')\n",
      "Stock(conId=5437, symbol='CAT', exchange='SMART', primaryExchange='NYSE', currency='USD', localSymbol='CAT', tradingClass='CAT')\n",
      "Stock(conId=5684, symbol='CVX', exchange='SMART', primaryExchange='NYSE', currency='USD', localSymbol='CVX', tradingClass='CVX')\n",
      "Stock(conId=268084, symbol='CSCO', exchange='SMART', primaryExchange='NASDAQ', currency='USD', localSymbol='CSCO', tradingClass='NMS')\n",
      "Stock(conId=8894, symbol='KO', exchange='SMART', primaryExchange='NYSE', currency='USD', localSymbol='KO', tradingClass='KO')\n",
      "Stock(conId=6459, symbol='DIS', exchange='SMART', primaryExchange='NYSE', currency='USD', localSymbol='DIS', tradingClass='DIS')\n",
      "Stock(conId=356576040, symbol='DOW', exchange='SMART', primaryExchange='NYSE', currency='USD', localSymbol='DOW', tradingClass='DOW')\n",
      "Stock(conId=4627828, symbol='GS', exchange='SMART', primaryExchange='NYSE', currency='USD', localSymbol='GS', tradingClass='GS')\n",
      "Stock(conId=7930, symbol='HD', exchange='SMART', primaryExchange='NYSE', currency='USD', localSymbol='HD', tradingClass='HD')\n",
      "Stock(conId=4350, symbol='HON', exchange='SMART', primaryExchange='NASDAQ', currency='USD', localSymbol='HON', tradingClass='NMS')\n",
      "Stock(conId=8314, symbol='IBM', exchange='SMART', primaryExchange='NYSE', currency='USD', localSymbol='IBM', tradingClass='IBM')\n",
      "Stock(conId=270639, symbol='INTC', exchange='SMART', primaryExchange='NASDAQ', currency='USD', localSymbol='INTC', tradingClass='NMS')\n",
      "Stock(conId=8719, symbol='JNJ', exchange='SMART', primaryExchange='NYSE', currency='USD', localSymbol='JNJ', tradingClass='JNJ')\n",
      "Stock(conId=1520593, symbol='JPM', exchange='SMART', primaryExchange='NYSE', currency='USD', localSymbol='JPM', tradingClass='JPM')\n",
      "Stock(conId=9408, symbol='MCD', exchange='SMART', primaryExchange='NYSE', currency='USD', localSymbol='MCD', tradingClass='MCD')\n",
      "Stock(conId=70101545, symbol='MRK', exchange='SMART', primaryExchange='NYSE', currency='USD', localSymbol='MRK', tradingClass='MRK')\n",
      "Stock(conId=272093, symbol='MSFT', exchange='SMART', primaryExchange='NASDAQ', currency='USD', localSymbol='MSFT', tradingClass='NMS')\n",
      "Stock(conId=10291, symbol='NKE', exchange='SMART', primaryExchange='NYSE', currency='USD', localSymbol='NKE', tradingClass='NKE')\n",
      "Stock(conId=11054, symbol='PG', exchange='SMART', primaryExchange='NYSE', currency='USD', localSymbol='PG', tradingClass='PG')\n",
      "Stock(conId=29624264, symbol='CRM', exchange='SMART', primaryExchange='NYSE', currency='USD', localSymbol='CRM', tradingClass='CRM')\n",
      "Stock(conId=43150617, symbol='TRV', exchange='SMART', primaryExchange='NYSE', currency='USD', localSymbol='TRV', tradingClass='TRV')\n",
      "Stock(conId=13272, symbol='UNH', exchange='SMART', primaryExchange='NYSE', currency='USD', localSymbol='UNH', tradingClass='UNH')\n",
      "Stock(conId=4901, symbol='VZ', exchange='SMART', primaryExchange='NYSE', currency='USD', localSymbol='VZ', tradingClass='VZ')\n",
      "Stock(conId=49462172, symbol='V', exchange='SMART', primaryExchange='NYSE', currency='USD', localSymbol='V', tradingClass='V')\n",
      "Stock(conId=13824, symbol='WMT', exchange='SMART', primaryExchange='NYSE', currency='USD', localSymbol='WMT', tradingClass='WMT')\n",
      "{'MMM': Stock(conId=9720, symbol='MMM', exchange='SMART', primaryExchange='NYSE', currency='USD', localSymbol='MMM', tradingClass='MMM'), 'AXP': Stock(conId=4721, symbol='AXP', exchange='SMART', primaryExchange='NYSE', currency='USD', localSymbol='AXP', tradingClass='AXP'), 'AMGN': Stock(conId=266145, symbol='AMGN', exchange='SMART', primaryExchange='NASDAQ', currency='USD', localSymbol='AMGN', tradingClass='NMS'), 'AMZN': Stock(conId=3691937, symbol='AMZN', exchange='SMART', primaryExchange='NASDAQ', currency='USD', localSymbol='AMZN', tradingClass='NMS'), 'AAPL': Stock(conId=265598, symbol='AAPL', exchange='SMART', primaryExchange='NASDAQ', currency='USD', localSymbol='AAPL', tradingClass='NMS'), 'BA': Stock(conId=4762, symbol='BA', exchange='SMART', primaryExchange='NYSE', currency='USD', localSymbol='BA', tradingClass='BA'), 'CAT': Stock(conId=5437, symbol='CAT', exchange='SMART', primaryExchange='NYSE', currency='USD', localSymbol='CAT', tradingClass='CAT'), 'CVX': Stock(conId=5684, symbol='CVX', exchange='SMART', primaryExchange='NYSE', currency='USD', localSymbol='CVX', tradingClass='CVX'), 'CSCO': Stock(conId=268084, symbol='CSCO', exchange='SMART', primaryExchange='NASDAQ', currency='USD', localSymbol='CSCO', tradingClass='NMS'), 'KO': Stock(conId=8894, symbol='KO', exchange='SMART', primaryExchange='NYSE', currency='USD', localSymbol='KO', tradingClass='KO'), 'DIS': Stock(conId=6459, symbol='DIS', exchange='SMART', primaryExchange='NYSE', currency='USD', localSymbol='DIS', tradingClass='DIS'), 'DOW': Stock(conId=356576040, symbol='DOW', exchange='SMART', primaryExchange='NYSE', currency='USD', localSymbol='DOW', tradingClass='DOW'), 'GS': Stock(conId=4627828, symbol='GS', exchange='SMART', primaryExchange='NYSE', currency='USD', localSymbol='GS', tradingClass='GS'), 'HD': Stock(conId=7930, symbol='HD', exchange='SMART', primaryExchange='NYSE', currency='USD', localSymbol='HD', tradingClass='HD'), 'HON': Stock(conId=4350, symbol='HON', exchange='SMART', primaryExchange='NASDAQ', currency='USD', localSymbol='HON', tradingClass='NMS'), 'IBM': Stock(conId=8314, symbol='IBM', exchange='SMART', primaryExchange='NYSE', currency='USD', localSymbol='IBM', tradingClass='IBM'), 'INTC': Stock(conId=270639, symbol='INTC', exchange='SMART', primaryExchange='NASDAQ', currency='USD', localSymbol='INTC', tradingClass='NMS'), 'JNJ': Stock(conId=8719, symbol='JNJ', exchange='SMART', primaryExchange='NYSE', currency='USD', localSymbol='JNJ', tradingClass='JNJ'), 'JPM': Stock(conId=1520593, symbol='JPM', exchange='SMART', primaryExchange='NYSE', currency='USD', localSymbol='JPM', tradingClass='JPM'), 'MCD': Stock(conId=9408, symbol='MCD', exchange='SMART', primaryExchange='NYSE', currency='USD', localSymbol='MCD', tradingClass='MCD'), 'MRK': Stock(conId=70101545, symbol='MRK', exchange='SMART', primaryExchange='NYSE', currency='USD', localSymbol='MRK', tradingClass='MRK'), 'MSFT': Stock(conId=272093, symbol='MSFT', exchange='SMART', primaryExchange='NASDAQ', currency='USD', localSymbol='MSFT', tradingClass='NMS'), 'NKE': Stock(conId=10291, symbol='NKE', exchange='SMART', primaryExchange='NYSE', currency='USD', localSymbol='NKE', tradingClass='NKE'), 'PG': Stock(conId=11054, symbol='PG', exchange='SMART', primaryExchange='NYSE', currency='USD', localSymbol='PG', tradingClass='PG'), 'CRM': Stock(conId=29624264, symbol='CRM', exchange='SMART', primaryExchange='NYSE', currency='USD', localSymbol='CRM', tradingClass='CRM'), 'TRV': Stock(conId=43150617, symbol='TRV', exchange='SMART', primaryExchange='NYSE', currency='USD', localSymbol='TRV', tradingClass='TRV'), 'UNH': Stock(conId=13272, symbol='UNH', exchange='SMART', primaryExchange='NYSE', currency='USD', localSymbol='UNH', tradingClass='UNH'), 'VZ': Stock(conId=4901, symbol='VZ', exchange='SMART', primaryExchange='NYSE', currency='USD', localSymbol='VZ', tradingClass='VZ'), 'V': Stock(conId=49462172, symbol='V', exchange='SMART', primaryExchange='NYSE', currency='USD', localSymbol='V', tradingClass='V'), 'WMT': Stock(conId=13824, symbol='WMT', exchange='SMART', primaryExchange='NYSE', currency='USD', localSymbol='WMT', tradingClass='WMT')}\n"
     ]
    }
   ],
   "source": [
    "import pandas as pd\n",
    "import datetime \n",
    "import time\n",
    "from ib_insync import *\n",
    "import pandas as pd\n",
    "import pandas_ta as ta\n",
    "util.startLoop()  # uncomment this line when in a notebook\n",
    "# import logging\n",
    "# logging.basicConfig(level=logging.INFO, filename=f'orb_{datetime.date.today()}',filemode='w',format=\"%(asctime)s - %(message)s\")\n",
    "\n",
    "ib = IB()\n",
    "ib.connect('127.0.0.1', 7497, clientId=11)\n",
    "\n",
    "list_of_tickers=['MMM', 'AXP', 'AMGN', 'AMZN', 'AAPL', 'BA', 'CAT', 'CVX', 'CSCO', 'KO', 'DIS', 'DOW', 'GS', 'HD', 'HON', 'IBM', 'INTC', 'JNJ', 'JPM', 'MCD', 'MRK', 'MSFT', 'NKE', 'PG', 'CRM', 'TRV', 'UNH', 'VZ', 'V', 'WMT']\n",
    "\n",
    "\n",
    "contract_object={}\n",
    "for ticker in list_of_tickers:\n",
    "    c=ib.qualifyContracts(Stock(ticker,'SMART', 'USD'))[0]\n",
    "    print(c)\n",
    "    contract_object[ticker]=c\n",
    "print(contract_object)"
   ]
  },
  {
   "cell_type": "code",
   "execution_count": null,
   "metadata": {},
   "outputs": [],
   "source": []
  }
 ],
 "metadata": {
  "kernelspec": {
   "display_name": "Python 3",
   "language": "python",
   "name": "python3"
  },
  "language_info": {
   "codemirror_mode": {
    "name": "ipython",
    "version": 3
   },
   "file_extension": ".py",
   "mimetype": "text/x-python",
   "name": "python",
   "nbconvert_exporter": "python",
   "pygments_lexer": "ipython3",
   "version": "3.12.2"
  }
 },
 "nbformat": 4,
 "nbformat_minor": 2
}
